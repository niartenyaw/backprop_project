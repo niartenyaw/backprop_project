{
 "cells": [
  {
   "cell_type": "code",
   "execution_count": 24,
   "metadata": {
    "collapsed": true
   },
   "outputs": [],
   "source": [
    "import numpy as np"
   ]
  },
  {
   "cell_type": "code",
   "execution_count": 35,
   "metadata": {
    "collapsed": true
   },
   "outputs": [],
   "source": [
    "class PlaceholderTensor:\n",
    "    \n",
    "    def __init__(self, value):\n",
    "        self._value = value\n",
    "    \n",
    "    def set_value(self, value):\n",
    "        self._value = value\n",
    "    \n",
    "    def value(self):\n",
    "        return self._value"
   ]
  },
  {
   "cell_type": "code",
   "execution_count": 36,
   "metadata": {
    "collapsed": true
   },
   "outputs": [],
   "source": [
    "class PlusTensor:\n",
    "    \n",
    "    def __init__(self, previous, bias):\n",
    "        self.previous = previous\n",
    "        self.bias = bias\n",
    "        self.calculated_value = None\n",
    "    \n",
    "    def value(self):\n",
    "        if not self.calculated_value:\n",
    "            self.calculated_value = self.previous.value() + self.bias.value()\n",
    "        return self.calculated_value"
   ]
  },
  {
   "cell_type": "code",
   "execution_count": 37,
   "metadata": {
    "collapsed": true
   },
   "outputs": [],
   "source": [
    "class MultiplyTensor:\n",
    "    \n",
    "    def __init__(self, vect, weight):\n",
    "        self.vect = vect\n",
    "        self.weight = weight\n",
    "    \n",
    "    def value(self):\n",
    "        return np.dot(self.vect.value(), self.weight.value())"
   ]
  },
  {
   "cell_type": "code",
   "execution_count": 44,
   "metadata": {
    "collapsed": true
   },
   "outputs": [],
   "source": [
    "class SoftMaxCETensor:\n",
    "    \n",
    "    def __init__(self, preactivation_tensor, true_y_tensor):\n",
    "        self.preactivation_tensor = preactivation_tensor\n",
    "        self.true_y_tensor = true_y_tensor # assume one-hot encoding\n",
    "        self.calculated_value = None\n",
    "    \n",
    "    def value(self):\n",
    "        if not self.calculated_value:\n",
    "            pre_e = np.exp(self.preactivation_tensor.value())\n",
    "            sums = np.sum(pre_e)\n",
    "            soft_max = pre_e / sums\n",
    "            y_star_prob = np.sum(np.multiply(soft_max, self.true_y_tensor.value()))\n",
    "            self.calculated_value = -np.log(y_star_prob)\n",
    "        return self.calculated_value"
   ]
  },
  {
   "cell_type": "code",
   "execution_count": 56,
   "metadata": {},
   "outputs": [
    {
     "data": {
      "text/plain": [
       "8.002810262315784"
      ]
     },
     "execution_count": 56,
     "metadata": {},
     "output_type": "execute_result"
    }
   ],
   "source": [
    "x = np.array([0, 2, 8])\n",
    "y = np.array([1, 0, 0])\n",
    "mat = np.array([[1,2,3],[4,5,6],[7,8,9]])\n",
    "prev = PlaceholderTensor(x)\n",
    "bias = PlaceholderTensor(y)\n",
    "\n",
    "# preact = MultiplyTensor(prev, bias)\n",
    "SoftMaxCETensor(prev, bias).value()"
   ]
  },
  {
   "cell_type": "code",
   "execution_count": 48,
   "metadata": {},
   "outputs": [
    {
     "data": {
      "text/plain": [
       "0.574468085106383"
      ]
     },
     "execution_count": 48,
     "metadata": {},
     "output_type": "execute_result"
    }
   ],
   "source": []
  },
  {
   "cell_type": "code",
   "execution_count": null,
   "metadata": {
    "collapsed": true
   },
   "outputs": [],
   "source": []
  }
 ],
 "metadata": {
  "kernelspec": {
   "display_name": "Python 3",
   "language": "python",
   "name": "python3"
  },
  "language_info": {
   "codemirror_mode": {
    "name": "ipython",
    "version": 3
   },
   "file_extension": ".py",
   "mimetype": "text/x-python",
   "name": "python",
   "nbconvert_exporter": "python",
   "pygments_lexer": "ipython3",
   "version": "3.6.2"
  }
 },
 "nbformat": 4,
 "nbformat_minor": 2
}
